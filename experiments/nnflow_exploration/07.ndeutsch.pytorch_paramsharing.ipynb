{
 "cells": [
  {
   "cell_type": "markdown",
   "metadata": {},
   "source": [
    "In preparation for implementing inverses, let's check what happens when we try to share weights between models"
   ]
  },
  {
   "cell_type": "code",
   "execution_count": 1,
   "metadata": {},
   "outputs": [],
   "source": [
    "import torch"
   ]
  },
  {
   "cell_type": "code",
   "execution_count": 35,
   "metadata": {},
   "outputs": [],
   "source": [
    "class lin(torch.nn.Module):\n",
    "    def __init__(self):\n",
    "        super(lin,self).__init__()\n",
    "        self.layer = torch.nn.Linear(5,5)\n",
    "    def create_another(self):\n",
    "        other = lin()\n",
    "        lin.layer = self.layer\n",
    "        return other\n",
    "    def forward(self,x):\n",
    "        return self.layer(x)"
   ]
  },
  {
   "cell_type": "code",
   "execution_count": 66,
   "metadata": {},
   "outputs": [],
   "source": [
    "l1=lin()"
   ]
  },
  {
   "cell_type": "code",
   "execution_count": 67,
   "metadata": {},
   "outputs": [],
   "source": [
    "l2=l1.create_another()"
   ]
  },
  {
   "cell_type": "code",
   "execution_count": 68,
   "metadata": {},
   "outputs": [],
   "source": [
    "x = torch.zeros(2,5).normal_()\n",
    "y = torch.zeros(2,5).normal_()"
   ]
  },
  {
   "cell_type": "code",
   "execution_count": 69,
   "metadata": {},
   "outputs": [],
   "source": [
    "with torch.no_grad():\n",
    "    l2.layer.weight += 1"
   ]
  },
  {
   "cell_type": "code",
   "execution_count": 65,
   "metadata": {},
   "outputs": [
    {
     "data": {
      "text/plain": [
       "Parameter containing:\n",
       "tensor([[1.1701, 1.3735, 0.6061, 0.8151, 1.1722],\n",
       "        [1.2464, 1.1810, 0.9816, 0.7697, 0.8180],\n",
       "        [1.1656, 1.3538, 1.3415, 0.6370, 1.3502],\n",
       "        [1.3057, 0.7915, 0.7593, 1.3077, 0.9034],\n",
       "        [0.8036, 1.1113, 0.6930, 0.5688, 1.0372]], requires_grad=True)"
      ]
     },
     "execution_count": 65,
     "metadata": {},
     "output_type": "execute_result"
    }
   ],
   "source": [
    "l1.layer.weight"
   ]
  },
  {
   "cell_type": "code",
   "execution_count": 48,
   "metadata": {},
   "outputs": [],
   "source": [
    "opt = torch.optim.SGD(l2.parameters(),lr=0.1)"
   ]
  },
  {
   "cell_type": "code",
   "execution_count": 60,
   "metadata": {},
   "outputs": [
    {
     "name": "stdout",
     "output_type": "stream",
     "text": [
      "Parameter containing:\n",
      "tensor([[1.1701, 1.3735, 0.6061, 0.8151, 1.1722],\n",
      "        [1.2464, 1.1810, 0.9816, 0.7697, 0.8180],\n",
      "        [1.1656, 1.3538, 1.3415, 0.6370, 1.3502],\n",
      "        [1.3057, 0.7915, 0.7593, 1.3077, 0.9034],\n",
      "        [0.8036, 1.1113, 0.6930, 0.5688, 1.0372]], requires_grad=True)\n",
      "Parameter containing:\n",
      "tensor([[1.1701, 1.3735, 0.6061, 0.8151, 1.1722],\n",
      "        [1.2464, 1.1810, 0.9816, 0.7697, 0.8180],\n",
      "        [1.1656, 1.3538, 1.3415, 0.6370, 1.3502],\n",
      "        [1.3057, 0.7915, 0.7593, 1.3077, 0.9034],\n",
      "        [0.8036, 1.1113, 0.6930, 0.5688, 1.0372]], requires_grad=True)\n",
      "Parameter containing:\n",
      "tensor([[1.1701, 1.3735, 0.6061, 0.8151, 1.1722],\n",
      "        [1.2464, 1.1810, 0.9816, 0.7697, 0.8180],\n",
      "        [1.1656, 1.3538, 1.3415, 0.6370, 1.3502],\n",
      "        [1.3057, 0.7915, 0.7593, 1.3077, 0.9034],\n",
      "        [0.8036, 1.1113, 0.6930, 0.5688, 1.0372]], requires_grad=True)\n",
      "Parameter containing:\n",
      "tensor([[1.1701, 1.3735, 0.6061, 0.8151, 1.1722],\n",
      "        [1.2464, 1.1810, 0.9816, 0.7697, 0.8180],\n",
      "        [1.1656, 1.3538, 1.3415, 0.6370, 1.3502],\n",
      "        [1.3057, 0.7915, 0.7593, 1.3077, 0.9034],\n",
      "        [0.8036, 1.1113, 0.6930, 0.5688, 1.0372]], requires_grad=True)\n"
     ]
    }
   ],
   "source": [
    "print(l2.layer.weight)\n",
    "print(l1.layer.weight)\n",
    "opt.zero_grad()\n",
    "L = torch.mean( (y-l2(x))**2 )\n",
    "L.backward()\n",
    "opt.step()\n",
    "print(l2.layer.weight)\n",
    "print(l1.layer.weight)"
   ]
  },
  {
   "cell_type": "code",
   "execution_count": 64,
   "metadata": {},
   "outputs": [
    {
     "data": {
      "text/plain": [
       "[Parameter containing:\n",
       " tensor([[-0.1760, -0.4162,  0.3528, -0.3336,  0.3247],\n",
       "         [-0.1546,  0.3209,  0.0857,  0.1561,  0.2376],\n",
       "         [-0.1929,  0.2029, -0.3509, -0.2266, -0.2433],\n",
       "         [ 0.2062,  0.0304, -0.0554, -0.3156, -0.3972],\n",
       "         [-0.3270, -0.3346,  0.3815, -0.3916,  0.3992]], requires_grad=True),\n",
       " Parameter containing:\n",
       " tensor([ 0.1415, -0.3273,  0.2172,  0.1858, -0.1276], requires_grad=True)]"
      ]
     },
     "execution_count": 64,
     "metadata": {},
     "output_type": "execute_result"
    }
   ],
   "source": [
    "list(l2.parameters())"
   ]
  },
  {
   "cell_type": "code",
   "execution_count": null,
   "metadata": {},
   "outputs": [],
   "source": []
  }
 ],
 "metadata": {
  "kernelspec": {
   "display_name": "Python 3",
   "language": "python",
   "name": "python3"
  },
  "language_info": {
   "codemirror_mode": {
    "name": "ipython",
    "version": 3
   },
   "file_extension": ".py",
   "mimetype": "text/x-python",
   "name": "python",
   "nbconvert_exporter": "python",
   "pygments_lexer": "ipython3",
   "version": "3.6.9"
  }
 },
 "nbformat": 4,
 "nbformat_minor": 4
}
