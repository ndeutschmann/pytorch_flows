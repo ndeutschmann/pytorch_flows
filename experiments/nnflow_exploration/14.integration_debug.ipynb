{
 "cells": [
  {
   "cell_type": "code",
   "execution_count": 1,
   "metadata": {},
   "outputs": [],
   "source": [
    "import torch\n",
    "from math import pi,sqrt,log,e,exp\n",
    "from time import time\n",
    "from matplotlib import pyplot\n",
    "import numpy as np\n",
    "from matplotlib import pyplot as plt\n",
    "from tqdm.autonotebook import tqdm\n",
    "#torch.set_default_dtype(torch.float64)\n",
    "device = torch.device(\"cuda:7\")"
   ]
  },
  {
   "cell_type": "code",
   "execution_count": 2,
   "metadata": {},
   "outputs": [],
   "source": [
    "from src.models.flows.coupling_cells.real_nvp import RealNVP\n",
    "from src.models.flows.sampling import FactorizedGaussianSampler, UniformSampler\n",
    "from src.models.flows.analytic_flows.element_wise import InvertibleAnalyticSigmoid\n",
    "from src.models.flows.sequential import InvertibleSequentialFlow\n",
    "from src.training.weighted_dataset.dkl_training import BasicStatefulDKLTrainer\n",
    "from src import setup_std_stream_rootlogger\n",
    "from src.integration.flat_refine_integrator import FlatSurveySamplingIntegrator"
   ]
  },
  {
   "cell_type": "code",
   "execution_count": 3,
   "metadata": {},
   "outputs": [],
   "source": [
    "setup_std_stream_rootlogger(debug=False)"
   ]
  },
  {
   "cell_type": "code",
   "execution_count": 4,
   "metadata": {},
   "outputs": [],
   "source": [
    "def f(x):\n",
    "    return torch.exp(-10*(2*x[:,1]-torch.cos(4*pi*x[:,0])-1)**2)"
   ]
  },
  {
   "cell_type": "code",
   "execution_count": 5,
   "metadata": {},
   "outputs": [],
   "source": [
    "posterior=UniformSampler(d=2,low=0.,high=1.,device=device)\n",
    "prior=FactorizedGaussianSampler(d=2,device=device)"
   ]
  },
  {
   "cell_type": "code",
   "execution_count": 6,
   "metadata": {},
   "outputs": [],
   "source": [
    "try:\n",
    "    del model\n",
    "except:\n",
    "    pass\n",
    "\n",
    "\n",
    "model  = InvertibleSequentialFlow(2,[\n",
    "        RealNVP(d=2,\n",
    "              mask=[True,False],\n",
    "              d_hidden=256,\n",
    "              n_hidden=16,).to(device),\n",
    "        RealNVP(d=2,\n",
    "              mask=[False,True],\n",
    "              d_hidden=256,\n",
    "              n_hidden=16,).to(device),\n",
    "        RealNVP(d=2,\n",
    "              mask=[True,False],\n",
    "              d_hidden=256,\n",
    "              n_hidden=16,).to(device),\n",
    "        RealNVP(d=2,\n",
    "              mask=[False,True],\n",
    "              d_hidden=256,\n",
    "              n_hidden=16,).to(device), \n",
    "    InvertibleAnalyticSigmoid(d=2),\n",
    "])\n",
    "\n",
    "optim = torch.optim.Adam(model.parameters(),lr=1.e-4)"
   ]
  },
  {
   "cell_type": "code",
   "execution_count": 7,
   "metadata": {},
   "outputs": [],
   "source": [
    "trainer = BasicStatefulDKLTrainer(flow=model,latent_prior=prior)"
   ]
  },
  {
   "cell_type": "code",
   "execution_count": 8,
   "metadata": {},
   "outputs": [],
   "source": [
    "trainer.set_config(n_epochs=100, minibatch_size=20000, optim=torch.optim.Adam(model.parameters()))"
   ]
  },
  {
   "cell_type": "code",
   "execution_count": 9,
   "metadata": {},
   "outputs": [],
   "source": [
    "integrator=FlatSurveySamplingIntegrator(f,trainer,2,device=device)"
   ]
  },
  {
   "cell_type": "code",
   "execution_count": 10,
   "metadata": {
    "scrolled": false
   },
   "outputs": [
    {
     "name": "stdout",
     "output_type": "stream",
     "text": [
      "Starting integration\n",
      "Initializing the survey phase\n",
      "Starting the survey phase\n",
      "Training on batch: 100000 points\n",
      "Epoch 1/100\n",
      "Epoch 2/100\n",
      "Epoch 3/100\n",
      "Epoch 4/100\n",
      "Epoch 5/100\n",
      "Epoch 6/100\n",
      "Epoch 7/100\n",
      "Epoch 8/100\n",
      "Epoch 9/100\n",
      "Epoch 10/100\n",
      "Epoch 11/100\n",
      "Epoch 12/100\n",
      "Epoch 13/100\n",
      "Epoch 14/100\n",
      "Epoch 15/100\n",
      "Epoch 16/100\n",
      "Epoch 17/100\n",
      "Epoch 18/100\n",
      "Epoch 19/100\n",
      "Epoch 20/100\n",
      "Epoch 21/100\n",
      "Epoch 22/100\n",
      "Epoch 23/100\n",
      "Epoch 24/100\n",
      "Epoch 25/100\n",
      "Epoch 26/100\n",
      "Epoch 27/100\n",
      "Epoch 28/100\n",
      "Epoch 29/100\n",
      "Epoch 30/100\n",
      "Epoch 31/100\n",
      "Epoch 32/100\n",
      "Epoch 33/100\n",
      "Epoch 34/100\n",
      "Epoch 35/100\n",
      "Epoch 36/100\n",
      "Epoch 37/100\n",
      "Epoch 38/100\n",
      "Epoch 39/100\n",
      "Epoch 40/100\n",
      "Epoch 41/100\n",
      "Epoch 42/100\n",
      "Epoch 43/100\n",
      "Epoch 44/100\n",
      "Epoch 45/100\n",
      "Epoch 46/100\n",
      "Epoch 47/100\n",
      "Epoch 48/100\n",
      "Epoch 49/100\n",
      "Epoch 50/100\n",
      "Epoch 51/100\n",
      "Epoch 52/100\n",
      "Epoch 53/100\n",
      "Epoch 54/100\n",
      "Epoch 55/100\n",
      "Epoch 56/100\n",
      "Epoch 57/100\n",
      "Epoch 58/100\n",
      "Epoch 59/100\n",
      "Epoch 60/100\n",
      "Epoch 61/100\n",
      "Epoch 62/100\n",
      "Epoch 63/100\n",
      "Epoch 64/100\n",
      "Epoch 65/100\n",
      "Epoch 66/100\n",
      "Epoch 67/100\n",
      "Epoch 68/100\n",
      "Epoch 69/100\n",
      "Epoch 70/100\n",
      "Epoch 71/100\n",
      "Epoch 72/100\n",
      "Epoch 73/100\n",
      "Epoch 74/100\n",
      "Epoch 75/100\n",
      "Epoch 76/100\n",
      "Epoch 77/100\n",
      "Epoch 78/100\n",
      "Epoch 79/100\n",
      "Epoch 80/100\n",
      "Epoch 81/100\n",
      "Epoch 82/100\n",
      "Epoch 83/100\n",
      "Epoch 84/100\n",
      "Epoch 85/100\n",
      "Epoch 86/100\n",
      "Epoch 87/100\n",
      "Epoch 88/100\n",
      "Epoch 89/100\n",
      "Epoch 90/100\n",
      "Epoch 91/100\n",
      "Epoch 92/100\n",
      "Epoch 93/100\n",
      "Epoch 94/100\n",
      "Epoch 95/100\n",
      "Epoch 96/100\n",
      "Epoch 97/100\n",
      "Epoch 98/100\n",
      "Epoch 99/100\n",
      "Epoch 100/100\n",
      "Integral: 2.305e-01 +/- 1.075e-03\n",
      "Finalizing the survey phase\n",
      "Initializing the refine phase\n",
      "Starting the refine phase\n",
      "Integral: 2.303e-01 +/- 7.346e-04\n",
      "Integral: 2.294e-01 +/- 3.232e-04\n",
      "Integral: 2.294e-01 +/- 3.787e-04\n",
      "Integral: 2.301e-01 +/- 6.885e-04\n",
      "Integral: 2.301e-01 +/- 4.509e-04\n",
      "Integral: 2.296e-01 +/- 3.626e-04\n",
      "Integral: 2.291e-01 +/- 4.113e-04\n",
      "Integral: 2.295e-01 +/- 3.571e-04\n",
      "Integral: 2.326e-01 +/- 2.606e-03\n",
      "Integral: 2.307e-01 +/- 1.229e-03\n",
      "Finalizing the refine phase\n"
     ]
    }
   ],
   "source": [
    "result=integrator.integrate(1,10)"
   ]
  },
  {
   "cell_type": "code",
   "execution_count": 11,
   "metadata": {},
   "outputs": [
    {
     "data": {
      "text/plain": [
       "integral                                  0.230462\n",
       "error                                    0.0010754\n",
       "n_points                                    100000\n",
       "phase                                       survey\n",
       "training record    [metrics, epochs, step, config]\n",
       "Name: 0, dtype: object"
      ]
     },
     "execution_count": 11,
     "metadata": {},
     "output_type": "execute_result"
    }
   ],
   "source": [
    "integrator.integration_history.loc[0]"
   ]
  },
  {
   "cell_type": "code",
   "execution_count": 12,
   "metadata": {},
   "outputs": [
    {
     "data": {
      "image/png": "[encoded data removed]",
      "text/plain": [
       "<Figure size 360x360 with 1 Axes>"
      ]
     },
     "metadata": {
      "needs_background": "light"
     },
     "output_type": "display_data"
    }
   ],
   "source": [
    "x=trainer.sample_forward(100000).cpu().numpy()\n",
    "plt.figure(figsize=(5,5))\n",
    "plt.hist2d(x[:,0],x[:,1],bins=30)\n",
    "plt.show()"
   ]
  },
  {
   "cell_type": "code",
   "execution_count": 13,
   "metadata": {},
   "outputs": [],
   "source": [
    "x,px,fx=integrator.sample_refine()"
   ]
  },
  {
   "cell_type": "code",
   "execution_count": 14,
   "metadata": {},
   "outputs": [
    {
     "data": {
      "text/plain": [
       "tensor(0.2301, device='cuda:7')"
      ]
     },
     "execution_count": 14,
     "metadata": {},
     "output_type": "execute_result"
    }
   ],
   "source": [
    "torch.mean(fx/px)"
   ]
  },
  {
   "cell_type": "code",
   "execution_count": 15,
   "metadata": {},
   "outputs": [
    {
     "data": {
      "text/plain": [
       "tensor(0.0190, device='cuda:7')"
      ]
     },
     "execution_count": 15,
     "metadata": {},
     "output_type": "execute_result"
    }
   ],
   "source": [
    "torch.var(fx/px)"
   ]
  },
  {
   "cell_type": "code",
   "execution_count": 16,
   "metadata": {},
   "outputs": [],
   "source": [
    "x,px,fx=trainer.generate_target_batch_from_posterior(10000,f,posterior)"
   ]
  },
  {
   "cell_type": "code",
   "execution_count": 17,
   "metadata": {},
   "outputs": [
    {
     "data": {
      "text/plain": [
       "tensor(0.2279, device='cuda:7')"
      ]
     },
     "execution_count": 17,
     "metadata": {},
     "output_type": "execute_result"
    }
   ],
   "source": [
    "torch.mean(fx/px)"
   ]
  },
  {
   "cell_type": "code",
   "execution_count": 18,
   "metadata": {},
   "outputs": [
    {
     "data": {
      "text/plain": [
       "tensor(0.1133, device='cuda:7')"
      ]
     },
     "execution_count": 18,
     "metadata": {},
     "output_type": "execute_result"
    }
   ],
   "source": [
    "torch.var(fx/px)"
   ]
  },
  {
   "cell_type": "code",
   "execution_count": 28,
   "metadata": {},
   "outputs": [
    {
     "data": {
      "text/plain": [
       "(0.23006186187267302,\n",
       " 0.0003193008445857474,\n",
       "     integral     error  n_points   phase                  training record\n",
       " 0   0.230462  0.001075    100000  survey  [metrics, epochs, step, config]\n",
       " 1   0.230282  0.000735    100000  refine                              NaN\n",
       " 2   0.229378  0.000323    100000  refine                              NaN\n",
       " 3   0.229374  0.000379    100000  refine                              NaN\n",
       " 4   0.230072  0.000688    100000  refine                              NaN\n",
       " 5   0.230059  0.000451    100000  refine                              NaN\n",
       " 6   0.229607  0.000363    100000  refine                              NaN\n",
       " 7   0.229095  0.000411    100000  refine                              NaN\n",
       " 8   0.229490  0.000357    100000  refine                              NaN\n",
       " 9   0.232566  0.002606    100000  refine                              NaN\n",
       " 10  0.230696  0.001229    100000  refine                              NaN)"
      ]
     },
     "execution_count": 28,
     "metadata": {},
     "output_type": "execute_result"
    }
   ],
   "source": [
    "result"
   ]
  },
  {
   "cell_type": "code",
   "execution_count": 27,
   "metadata": {},
   "outputs": [
    {
     "data": {
      "text/plain": [
       "0.0003193008445857474"
      ]
     },
     "execution_count": 27,
     "metadata": {},
     "output_type": "execute_result"
    }
   ],
   "source": [
    "((result[2][result[2][\"phase\"] == \"refine\"][\"error\"]**2).mean()/ len(result[2][result[2][\"phase\"] == \"refine\"]))**.5"
   ]
  },
  {
   "cell_type": "code",
   "execution_count": 30,
   "metadata": {},
   "outputs": [
    {
     "data": {
      "text/plain": [
       "0.0010097179277064046"
      ]
     },
     "execution_count": 30,
     "metadata": {},
     "output_type": "execute_result"
    }
   ],
   "source": [
    "((result[2][result[2][\"phase\"] == \"refine\"][\"error\"]**2).mean())**0.5"
   ]
  },
  {
   "cell_type": "code",
   "execution_count": 31,
   "metadata": {},
   "outputs": [
    {
     "data": {
      "text/plain": [
       "0.0007542282139336561"
      ]
     },
     "execution_count": 31,
     "metadata": {},
     "output_type": "execute_result"
    }
   ],
   "source": [
    "((result[2][result[2][\"phase\"] == \"refine\"][\"error\"]).mean())"
   ]
  },
  {
   "cell_type": "code",
   "execution_count": null,
   "metadata": {},
   "outputs": [],
   "source": []
  }
 ],
 "metadata": {
  "kernelspec": {
   "display_name": "Python 3",
   "language": "python",
   "name": "python3"
  },
  "language_info": {
   "codemirror_mode": {
    "name": "ipython",
    "version": 3
   },
   "file_extension": ".py",
   "mimetype": "text/x-python",
   "name": "python",
   "nbconvert_exporter": "python",
   "pygments_lexer": "ipython3",
   "version": "3.6.9"
  }
 },
 "nbformat": 4,
 "nbformat_minor": 4
}
