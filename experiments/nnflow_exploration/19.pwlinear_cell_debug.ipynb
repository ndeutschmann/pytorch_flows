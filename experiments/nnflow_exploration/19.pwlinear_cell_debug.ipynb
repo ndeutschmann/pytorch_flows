{
 "cells": [
  {
   "cell_type": "code",
   "execution_count": 1,
   "metadata": {},
   "outputs": [],
   "source": [
    "import torch\n",
    "from math import pi,sqrt,log,e,exp\n",
    "from time import time\n",
    "from matplotlib import pyplot\n",
    "import numpy as np\n",
    "from matplotlib import pyplot as plt\n",
    "from tqdm.autonotebook import tqdm\n",
    "#dtype = torch.float\n",
    "device = torch.device(\"cuda:7\")\n",
    "#torch.set_default_dtype(torch.float64)\n",
    "\n",
    "#torch.autograd.set_detect_anomaly(True)\n",
    "\n",
    "from src.training.weighted_dataset.dkl_training import BasicStatefulDKLTrainer\n",
    "from src.training.weighted_dataset.variance_training import BasicStatefulVarTrainer\n",
    "from src.models.flows.sequential import InvertibleSequentialFlow\n",
    "from src.models.flows.coupling_cells.real_nvp import RealNVP\n",
    "from src.models.flows.coupling_cells.piecewise_coupling.piecewise_linear import PWLinearCoupling\n",
    "from src.models.flows.sampling import UniformSampler,FactorizedGaussianSampler\n",
    "from src.models.flows.analytic_flows.element_wise import InvertibleAnalyticSigmoid\n",
    "from src.integration.flat_survey_integrator import FlatSurveySamplingIntegrator\n",
    "from src.integration.dkltrainer_integrator import DKLAdaptiveSurveyIntegrator\n",
    "from src import setup_std_stream_logger"
   ]
  },
  {
   "cell_type": "code",
   "execution_count": 2,
   "metadata": {},
   "outputs": [],
   "source": [
    "setup_std_stream_logger(debug=True)"
   ]
  },
  {
   "cell_type": "code",
   "execution_count": 3,
   "metadata": {},
   "outputs": [],
   "source": [
    "posterior=UniformSampler(d=2,low=0.,high=1.,device=device)\n",
    "prior=UniformSampler(d=2,low=0.,high=1.,device=device)\n",
    "prior2=FactorizedGaussianSampler(d=2,device=device)"
   ]
  },
  {
   "cell_type": "code",
   "execution_count": 4,
   "metadata": {},
   "outputs": [],
   "source": [
    "def one(x):\n",
    "    return torch.ones(x.shape[0],device=x.device)\n",
    "\n",
    "def nonzerocos(x):\n",
    "    return torch.cos(4*(x[:,0]+x[:,1]))**2\n",
    "\n",
    "def twogauss(x):\n",
    "    return 1+10*torch.exp(- torch.sum(((x-.25)/0.1)**2,dim=-1)  )+10*torch.exp(- torch.sum(((x-.75)/0.1)**2,dim=-1)  )\n",
    "\n",
    "def circle(x):\n",
    "    \n",
    "    return torch.exp( - ((torch.sqrt(torch.sum((x-.5)**2,dim=-1)) - 0.3)/0.3)**2 )\n",
    "\n",
    "f = nonzerocos "
   ]
  },
  {
   "cell_type": "code",
   "execution_count": 5,
   "metadata": {},
   "outputs": [
    {
     "data": {
      "image/png": "[encoded data removed]",
      "text/plain": [
       "<Figure size 432x288 with 1 Axes>"
      ]
     },
     "metadata": {
      "needs_background": "light"
     },
     "output_type": "display_data"
    }
   ],
   "source": [
    "n = 30\n",
    "plt.imshow(f(torch.cartesian_prod(torch.arange(0,1,1/n),torch.arange(0,1,1/n))).reshape(n,n).numpy(),origin=\"lower\")\n",
    "plt.show()"
   ]
  },
  {
   "cell_type": "code",
   "execution_count": 6,
   "metadata": {},
   "outputs": [],
   "source": [
    "class Reshift(torch.nn.Module):\n",
    "    def forward(self,x):\n",
    "        return (x-0.5)*2.\n",
    "    \n",
    "class Sine(torch.nn.Module):\n",
    "    def __init__(self, w0 = 1.):\n",
    "        super().__init__()\n",
    "        self.w0 = w0\n",
    "    def forward(self, x):\n",
    "        return torch.sin(self.w0 * x)\n",
    "    \n",
    "try:\n",
    "    del model\n",
    "except:\n",
    "    pass\n",
    "\n",
    "model  = InvertibleSequentialFlow(2,[\n",
    "        PWLinearCoupling(d=2,\n",
    "              mask=[True,False],\n",
    "              d_hidden=32,\n",
    "              n_hidden=4,\n",
    "              n_bins=10,\n",
    "              hidden_activation=torch.nn.LeakyReLU,\n",
    "              input_activation=Reshift,\n",
    "              use_batch_norm=False).to(device),\n",
    "        PWLinearCoupling(d=2,\n",
    "              mask=[False,True],\n",
    "              d_hidden=32,\n",
    "              n_hidden=4,\n",
    "              n_bins=10,\n",
    "              hidden_activation=torch.nn.LeakyReLU,\n",
    "              input_activation=Reshift,\n",
    "              use_batch_norm=False).to(device),\n",
    "])\n",
    "\n",
    "# model2 = InvertibleSequentialFlow(2,\n",
    "#                                 [\n",
    "#                                     RealNVP(d=2,\n",
    "#                                     mask=[False,True],\n",
    "#                                     d_hidden=512,\n",
    "#                                     n_hidden=8\n",
    "#                                     ).to(device),\n",
    "                                    \n",
    "#                                    RealNVP(d=2,\n",
    "#                                     mask=[True,False],\n",
    "#                                     d_hidden=512,\n",
    "#                                     n_hidden=8\n",
    "#                                     ).to(device),\n",
    "#                                     RealNVP(d=2,\n",
    "#                                     mask=[False,True],\n",
    "#                                     d_hidden=512,\n",
    "#                                     n_hidden=8\n",
    "#                                     ).to(device),\n",
    "                                    \n",
    "#                                    RealNVP(d=2,\n",
    "#                                     mask=[True,False],\n",
    "#                                     d_hidden=512,\n",
    "#                                     n_hidden=8\n",
    "#                                     ).to(device),                                    \n",
    "                                    \n",
    "#                                     InvertibleAnalyticSigmoid(d=2).to(device)\n",
    "#                                 ])\n",
    "\n",
    "\n",
    "optim = torch.optim.Adam(model.parameters(),lr=1.e-3)\n"
   ]
  },
  {
   "cell_type": "code",
   "execution_count": 7,
   "metadata": {
    "scrolled": false
   },
   "outputs": [
    {
     "name": "stdout",
     "output_type": "stream",
     "text": [
      "Starting integration\n",
      "Initializing the survey phase\n",
      "Starting the survey phase\n",
      "Training on batch: 100000 points\n",
      "Epoch 1/30\n",
      "Loss: 9.569e-03\n",
      "Loss: 9.127e-03\n",
      "Loss: 7.900e-03\n",
      "Loss: 7.257e-03\n",
      "Loss: 6.637e-03\n",
      "Epoch 2/30\n",
      "Loss: 5.555e-03\n",
      "Loss: 5.099e-03\n",
      "Loss: 4.341e-03\n",
      "Loss: 3.604e-03\n",
      "Loss: 3.312e-03\n",
      "Epoch 3/30\n",
      "Loss: 2.486e-03\n",
      "Loss: 1.977e-03\n",
      "Loss: 1.507e-03\n",
      "Loss: 6.568e-04\n",
      "Loss: 5.375e-04\n",
      "Epoch 4/30\n",
      "Loss: -1.643e-04\n",
      "Loss: -7.907e-04\n",
      "Loss: -1.077e-03\n",
      "Loss: -2.111e-03\n",
      "Loss: -2.111e-03\n",
      "Epoch 5/30\n",
      "Loss: -2.743e-03\n",
      "Loss: -3.493e-03\n",
      "Loss: -3.688e-03\n",
      "Loss: -4.894e-03\n",
      "Loss: -4.888e-03\n",
      "Epoch 6/30\n",
      "Loss: -5.506e-03\n",
      "Loss: -6.438e-03\n",
      "Loss: -6.654e-03\n",
      "Loss: -8.080e-03\n",
      "Loss: -8.157e-03\n",
      "Epoch 7/30\n",
      "Loss: -8.781e-03\n",
      "Loss: -9.959e-03\n",
      "Loss: -1.027e-02\n",
      "Loss: -1.204e-02\n",
      "Loss: -1.225e-02\n",
      "Epoch 8/30\n",
      "Loss: -1.298e-02\n",
      "Loss: -1.451e-02\n",
      "Loss: -1.488e-02\n",
      "Loss: -1.712e-02\n",
      "Loss: -1.742e-02\n",
      "Epoch 9/30\n",
      "Loss: -1.834e-02\n",
      "Loss: -2.032e-02\n",
      "Loss: -2.072e-02\n",
      "Loss: -2.347e-02\n",
      "Loss: -2.391e-02\n",
      "Epoch 10/30\n",
      "Loss: -2.509e-02\n",
      "Loss: -2.760e-02\n",
      "Loss: -2.807e-02\n",
      "Loss: -3.142e-02\n",
      "Loss: -3.206e-02\n",
      "Epoch 11/30\n",
      "Loss: -3.360e-02\n",
      "Loss: -3.674e-02\n",
      "Loss: -3.745e-02\n",
      "Loss: -4.139e-02\n",
      "Loss: -4.238e-02\n",
      "Epoch 12/30\n",
      "Loss: -4.444e-02\n",
      "Loss: -4.804e-02\n",
      "Loss: -4.897e-02\n",
      "Loss: -5.330e-02\n",
      "Loss: -5.464e-02\n",
      "Epoch 13/30\n",
      "Loss: -5.718e-02\n",
      "Loss: -6.104e-02\n",
      "Loss: -6.218e-02\n",
      "Loss: -6.676e-02\n",
      "Loss: -6.831e-02\n",
      "Epoch 14/30\n",
      "Loss: -7.114e-02\n",
      "Loss: -7.495e-02\n",
      "Loss: -7.604e-02\n",
      "Loss: -8.057e-02\n",
      "Loss: -8.203e-02\n",
      "Epoch 15/30\n",
      "Loss: -8.490e-02\n",
      "Loss: -8.850e-02\n",
      "Loss: -8.945e-02\n",
      "Loss: -9.379e-02\n",
      "Loss: -9.518e-02\n",
      "Epoch 16/30\n",
      "Loss: -9.843e-02\n",
      "Loss: -1.019e-01\n",
      "Loss: -1.030e-01\n",
      "Loss: -1.075e-01\n",
      "Loss: -1.089e-01\n",
      "Epoch 17/30\n",
      "Loss: -1.130e-01\n",
      "Loss: -1.164e-01\n",
      "Loss: -1.176e-01\n",
      "Loss: -1.221e-01\n",
      "Loss: -1.236e-01\n",
      "Epoch 18/30\n",
      "Loss: -1.282e-01\n",
      "Loss: -1.317e-01\n",
      "Loss: -1.327e-01\n",
      "Loss: -1.370e-01\n",
      "Loss: -1.385e-01\n",
      "Epoch 19/30\n",
      "Loss: -1.433e-01\n",
      "Loss: -1.472e-01\n",
      "Loss: -1.476e-01\n",
      "Loss: -1.518e-01\n",
      "Loss: -1.531e-01\n",
      "Epoch 20/30\n",
      "Loss: -1.580e-01\n",
      "Loss: -1.625e-01\n",
      "Loss: -1.623e-01\n",
      "Loss: -1.658e-01\n",
      "Loss: -1.673e-01\n",
      "Epoch 21/30\n",
      "Loss: -1.722e-01\n",
      "Loss: -1.777e-01\n",
      "Loss: -1.766e-01\n",
      "Loss: -1.793e-01\n",
      "Loss: -1.809e-01\n",
      "Epoch 22/30\n",
      "Loss: -1.848e-01\n",
      "Loss: -1.910e-01\n",
      "Loss: -1.885e-01\n",
      "Loss: -1.909e-01\n",
      "Loss: -1.920e-01\n",
      "Epoch 23/30\n",
      "Loss: -1.946e-01\n",
      "Loss: -2.015e-01\n",
      "Loss: -1.973e-01\n",
      "Loss: -1.997e-01\n",
      "Loss: -2.002e-01\n",
      "Epoch 24/30\n",
      "Loss: -2.022e-01\n",
      "Loss: -2.094e-01\n",
      "Loss: -2.037e-01\n",
      "Loss: -2.067e-01\n",
      "Loss: -2.069e-01\n",
      "Epoch 25/30\n",
      "Loss: -2.085e-01\n",
      "Loss: -2.157e-01\n",
      "Loss: -2.093e-01\n",
      "Loss: -2.124e-01\n",
      "Loss: -2.128e-01\n",
      "Epoch 26/30\n",
      "Loss: -2.141e-01\n",
      "Loss: -2.211e-01\n",
      "Loss: -2.147e-01\n",
      "Loss: -2.175e-01\n",
      "Loss: -2.183e-01\n",
      "Epoch 27/30\n",
      "Loss: -2.194e-01\n",
      "Loss: -2.259e-01\n",
      "Loss: -2.196e-01\n",
      "Loss: -2.223e-01\n",
      "Loss: -2.233e-01\n",
      "Epoch 28/30\n",
      "Loss: -2.242e-01\n",
      "Loss: -2.308e-01\n",
      "Loss: -2.239e-01\n",
      "Loss: -2.269e-01\n",
      "Loss: -2.278e-01\n",
      "Epoch 29/30\n",
      "Loss: -2.286e-01\n",
      "Loss: -2.352e-01\n",
      "Loss: -2.276e-01\n",
      "Loss: -2.309e-01\n",
      "Loss: -2.320e-01\n",
      "Epoch 30/30\n",
      "Loss: -2.324e-01\n",
      "Loss: -2.392e-01\n",
      "Loss: -2.311e-01\n",
      "Loss: -2.347e-01\n",
      "Loss: -2.357e-01\n",
      "Integral: 4.977e-01 +/- 1.110e-03\n",
      "Switching sampling mode\n",
      "Training on batch: 100000 points\n",
      "Epoch 1/30\n",
      "Loss: -2.316e-01\n",
      "Loss: -2.429e-01\n",
      "Loss: -2.415e-01\n",
      "Loss: -2.306e-01\n",
      "Loss: -2.319e-01\n",
      "Epoch 2/30\n",
      "Loss: -2.349e-01\n",
      "Loss: -2.452e-01\n",
      "Loss: -2.447e-01\n",
      "Loss: -2.333e-01\n",
      "Loss: -2.338e-01\n",
      "Epoch 3/30\n",
      "Loss: -2.382e-01\n",
      "Loss: -2.477e-01\n",
      "Loss: -2.469e-01\n",
      "Loss: -2.371e-01\n",
      "Loss: -2.364e-01\n",
      "Epoch 4/30\n",
      "Loss: -2.401e-01\n",
      "Loss: -2.512e-01\n",
      "Loss: -2.493e-01\n",
      "Loss: -2.398e-01\n",
      "Loss: -2.383e-01\n",
      "Epoch 5/30\n",
      "Loss: -2.429e-01\n",
      "Loss: -2.534e-01\n",
      "Loss: -2.513e-01\n",
      "Loss: -2.412e-01\n",
      "Loss: -2.397e-01\n",
      "Epoch 6/30\n",
      "Loss: -2.449e-01\n",
      "Loss: -2.547e-01\n",
      "Loss: -2.528e-01\n",
      "Loss: -2.427e-01\n",
      "Loss: -2.410e-01\n",
      "Epoch 7/30\n",
      "Loss: -2.465e-01\n",
      "Loss: -2.563e-01\n",
      "Loss: -2.540e-01\n",
      "Loss: -2.446e-01\n",
      "Loss: -2.423e-01\n",
      "Epoch 8/30\n",
      "Loss: -2.480e-01\n",
      "Loss: -2.580e-01\n",
      "Loss: -2.554e-01\n",
      "Loss: -2.458e-01\n",
      "Loss: -2.436e-01\n",
      "Epoch 9/30\n",
      "Loss: -2.494e-01\n",
      "Loss: -2.593e-01\n",
      "Loss: -2.567e-01\n",
      "Loss: -2.469e-01\n",
      "Loss: -2.446e-01\n",
      "Epoch 10/30\n",
      "Loss: -2.509e-01\n",
      "Loss: -2.606e-01\n",
      "Loss: -2.578e-01\n",
      "Loss: -2.481e-01\n",
      "Loss: -2.457e-01\n",
      "Epoch 11/30\n",
      "Loss: -2.521e-01\n",
      "Loss: -2.618e-01\n",
      "Loss: -2.588e-01\n",
      "Loss: -2.493e-01\n",
      "Loss: -2.468e-01\n",
      "Epoch 12/30\n",
      "Loss: -2.532e-01\n",
      "Loss: -2.629e-01\n",
      "Loss: -2.599e-01\n",
      "Loss: -2.502e-01\n",
      "Loss: -2.477e-01\n",
      "Epoch 13/30\n",
      "Loss: -2.543e-01\n",
      "Loss: -2.641e-01\n",
      "Loss: -2.609e-01\n",
      "Loss: -2.512e-01\n",
      "Loss: -2.486e-01\n",
      "Epoch 14/30\n",
      "Loss: -2.553e-01\n",
      "Loss: -2.650e-01\n",
      "Loss: -2.617e-01\n",
      "Loss: -2.519e-01\n",
      "Loss: -2.494e-01\n",
      "Epoch 15/30\n",
      "Loss: -2.561e-01\n",
      "Loss: -2.659e-01\n",
      "Loss: -2.625e-01\n",
      "Loss: -2.526e-01\n",
      "Loss: -2.501e-01\n",
      "Epoch 16/30\n",
      "Loss: -2.569e-01\n",
      "Loss: -2.667e-01\n",
      "Loss: -2.633e-01\n",
      "Loss: -2.533e-01\n",
      "Loss: -2.508e-01\n",
      "Epoch 17/30\n",
      "Loss: -2.578e-01\n",
      "Loss: -2.676e-01\n",
      "Loss: -2.641e-01\n",
      "Loss: -2.539e-01\n",
      "Loss: -2.514e-01\n",
      "Epoch 18/30\n",
      "Loss: -2.585e-01\n",
      "Loss: -2.682e-01\n",
      "Loss: -2.648e-01\n",
      "Loss: -2.545e-01\n",
      "Loss: -2.519e-01\n",
      "Epoch 19/30\n",
      "Loss: -2.592e-01\n",
      "Loss: -2.689e-01\n",
      "Loss: -2.654e-01\n",
      "Loss: -2.551e-01\n",
      "Loss: -2.525e-01\n",
      "Epoch 20/30\n",
      "Loss: -2.598e-01\n",
      "Loss: -2.696e-01\n",
      "Loss: -2.659e-01\n",
      "Loss: -2.555e-01\n",
      "Loss: -2.529e-01\n",
      "Epoch 21/30\n",
      "Loss: -2.603e-01\n",
      "Loss: -2.701e-01\n",
      "Loss: -2.665e-01\n",
      "Loss: -2.560e-01\n",
      "Loss: -2.533e-01\n",
      "Epoch 22/30\n",
      "Loss: -2.609e-01\n",
      "Loss: -2.706e-01\n",
      "Loss: -2.669e-01\n",
      "Loss: -2.564e-01\n",
      "Loss: -2.538e-01\n",
      "Epoch 23/30\n",
      "Loss: -2.614e-01\n",
      "Loss: -2.711e-01\n",
      "Loss: -2.674e-01\n",
      "Loss: -2.567e-01\n",
      "Loss: -2.541e-01\n",
      "Epoch 24/30\n",
      "Loss: -2.618e-01\n",
      "Loss: -2.716e-01\n",
      "Loss: -2.678e-01\n",
      "Loss: -2.572e-01\n",
      "Loss: -2.544e-01\n",
      "Epoch 25/30\n",
      "Loss: -2.623e-01\n",
      "Loss: -2.720e-01\n",
      "Loss: -2.681e-01\n",
      "Loss: -2.576e-01\n",
      "Loss: -2.547e-01\n",
      "Epoch 26/30\n",
      "Loss: -2.627e-01\n",
      "Loss: -2.723e-01\n",
      "Loss: -2.685e-01\n",
      "Loss: -2.579e-01\n",
      "Loss: -2.550e-01\n",
      "Epoch 27/30\n",
      "Loss: -2.631e-01\n",
      "Loss: -2.727e-01\n",
      "Loss: -2.688e-01\n",
      "Loss: -2.581e-01\n",
      "Loss: -2.553e-01\n",
      "Epoch 28/30\n",
      "Loss: -2.634e-01\n",
      "Loss: -2.730e-01\n",
      "Loss: -2.690e-01\n",
      "Loss: -2.584e-01\n",
      "Loss: -2.555e-01\n",
      "Epoch 29/30\n",
      "Loss: -2.637e-01\n",
      "Loss: -2.732e-01\n",
      "Loss: -2.693e-01\n",
      "Loss: -2.586e-01\n",
      "Loss: -2.557e-01\n",
      "Epoch 30/30\n",
      "Loss: -2.639e-01\n",
      "Loss: -2.735e-01\n",
      "Loss: -2.695e-01\n",
      "Loss: -2.589e-01\n",
      "Loss: -2.560e-01\n",
      "Integral: 4.992e-01 +/- 1.544e-03\n",
      "Finalizing the survey phase\n",
      "Initializing the refine phase\n",
      "Starting the refine phase\n",
      "Integral: 4.984e-01 +/- 1.979e-03\n",
      "Finalizing the refine phase\n",
      "Final result: 4.98372e-01 +/- 1.97887e-03\n"
     ]
    }
   ],
   "source": [
    "trainer = BasicStatefulDKLTrainer(flow=model,latent_prior=prior)\n",
    "\n",
    "trainer.set_config(n_epochs=30, minibatch_size=20000, optim=optim)\n",
    "\n",
    "integrator=DKLAdaptiveSurveyIntegrator(f,trainer,2,device=device, verbosity=3, trainer_verbosity=3)\n",
    "\n",
    "result=integrator.integrate(2,1)"
   ]
  },
  {
   "cell_type": "code",
   "execution_count": 8,
   "metadata": {},
   "outputs": [
    {
     "data": {
      "text/plain": [
       "False"
      ]
     },
     "execution_count": 8,
     "metadata": {},
     "output_type": "execute_result"
    }
   ],
   "source": [
    "model.inverse"
   ]
  },
  {
   "cell_type": "code",
   "execution_count": 9,
   "metadata": {},
   "outputs": [],
   "source": [
    "xj = prior(100)\n",
    "yj = model(xj)\n",
    "xj=xj.detach().cpu().numpy()\n",
    "yj=yj.detach().cpu().numpy()"
   ]
  },
  {
   "cell_type": "code",
   "execution_count": 10,
   "metadata": {},
   "outputs": [
    {
     "data": {
      "text/plain": [
       "<matplotlib.collections.PathCollection at 0x7fa8b04dc320>"
      ]
     },
     "execution_count": 10,
     "metadata": {},
     "output_type": "execute_result"
    },
    {
     "data": {
      "image/png": "[encoded data removed]",
      "text/plain": [
       "<Figure size 432x288 with 1 Axes>"
      ]
     },
     "metadata": {
      "needs_background": "light"
     },
     "output_type": "display_data"
    }
   ],
   "source": [
    "plt.scatter(xj[:,1],yj[:,1])"
   ]
  },
  {
   "cell_type": "code",
   "execution_count": 11,
   "metadata": {},
   "outputs": [
    {
     "data": {
      "text/plain": [
       "<matplotlib.collections.PathCollection at 0x7fa8b04cd080>"
      ]
     },
     "execution_count": 11,
     "metadata": {},
     "output_type": "execute_result"
    },
    {
     "data": {
      "image/png": "[encoded data removed]",
      "text/plain": [
       "<Figure size 432x288 with 1 Axes>"
      ]
     },
     "metadata": {
      "needs_background": "light"
     },
     "output_type": "display_data"
    }
   ],
   "source": [
    "plt.scatter(xj[:,0],yj[:,0])"
   ]
  },
  {
   "cell_type": "code",
   "execution_count": 12,
   "metadata": {},
   "outputs": [
    {
     "data": {
      "text/plain": [
       "<matplotlib.collections.PathCollection at 0x7fa8b0423898>"
      ]
     },
     "execution_count": 12,
     "metadata": {},
     "output_type": "execute_result"
    },
    {
     "data": {
      "image/png": "[encoded data removed]",
      "text/plain": [
       "<Figure size 432x288 with 1 Axes>"
      ]
     },
     "metadata": {
      "needs_background": "light"
     },
     "output_type": "display_data"
    }
   ],
   "source": [
    "plt.scatter(xj[:,1],yj[:,2])"
   ]
  },
  {
   "cell_type": "code",
   "execution_count": 13,
   "metadata": {},
   "outputs": [
    {
     "data": {
      "image/png": "[encoded data removed]",
      "text/plain": [
       "<Figure size 360x720 with 2 Axes>"
      ]
     },
     "metadata": {
      "needs_background": "light"
     },
     "output_type": "display_data"
    }
   ],
   "source": [
    "fig, axs = plt.subplots(2,1)\n",
    "fig.set_size_inches(5,10)\n",
    "for i in range(len(axs)):\n",
    "    with torch.no_grad():\n",
    "        xj = prior(1000000)\n",
    "        yj = model(xj)\n",
    "        xj=xj.detach().cpu().numpy()\n",
    "        yj=yj.detach().cpu().numpy()\n",
    "        h=axs[i].hist2d(yj[:,0],yj[:,1],bins=30)\n",
    " \n",
    "plt.show()"
   ]
  },
  {
   "cell_type": "code",
   "execution_count": 44,
   "metadata": {},
   "outputs": [],
   "source": [
    "distrib=h[0]/np.sum(h[0])\n",
    "\n",
    "n=30\n",
    "ftab=f(torch.cartesian_prod(torch.arange(0,1,1/n),torch.arange(0,1,1/n))).reshape(n,n).numpy()\n",
    "ftabnorm=ftab/np.sum(ftab)"
   ]
  },
  {
   "cell_type": "code",
   "execution_count": null,
   "metadata": {},
   "outputs": [],
   "source": []
  },
  {
   "cell_type": "code",
   "execution_count": 45,
   "metadata": {},
   "outputs": [
    {
     "name": "stdout",
     "output_type": "stream",
     "text": [
      "0.0\n",
      "155.31238413782708\n",
      "1.6668913651291783\n",
      "7.863775441580369\n"
     ]
    }
   ],
   "source": [
    "print((distrib/ftabnorm).min())\n",
    "print((distrib/ftabnorm).max())\n",
    "print((distrib/ftabnorm).mean())\n",
    "print((distrib/ftabnorm).std())"
   ]
  },
  {
   "cell_type": "code",
   "execution_count": 19,
   "metadata": {
    "scrolled": false
   },
   "outputs": [
    {
     "data": {
      "image/png": "[encoded data removed]",
      "text/plain": [
       "<Figure size 432x288 with 1 Axes>"
      ]
     },
     "metadata": {
      "needs_background": "light"
     },
     "output_type": "display_data"
    },
    {
     "data": {
      "image/png": "[encoded data removed]",
      "text/plain": [
       "<Figure size 432x288 with 1 Axes>"
      ]
     },
     "metadata": {
      "needs_background": "light"
     },
     "output_type": "display_data"
    },
    {
     "data": {
      "image/png": "[encoded data removed]",
      "text/plain": [
       "<Figure size 432x288 with 1 Axes>"
      ]
     },
     "metadata": {
      "needs_background": "light"
     },
     "output_type": "display_data"
    },
    {
     "data": {
      "image/png": "[encoded data removed]",
      "text/plain": [
       "<Figure size 432x288 with 1 Axes>"
      ]
     },
     "metadata": {
      "needs_background": "light"
     },
     "output_type": "display_data"
    }
   ],
   "source": [
    "plt.imshow(distrib,interpolation=None,origin=\"lower\",vmin=0.,vmax=3.e-3)\n",
    "plt.show()\n",
    "plt.imshow(ftabnorm,interpolation=None,origin=\"lower\",vmin=0.,vmax=3.e-3)\n",
    "plt.show()\n",
    "fig,ax = plt.subplots()\n",
    "plt.imshow(np.abs(ftabnorm-distrib)/(ftabnorm+distrib),interpolation=None,origin=\"lower\",vmin=0.,vmax=1)\n",
    "plt.show()\n",
    "plt.imshow(ftabnorm/distrib,interpolation=None,origin=\"lower\",vmin=0,vmax=10)\n",
    "plt.show()"
   ]
  },
  {
   "cell_type": "code",
   "execution_count": 20,
   "metadata": {},
   "outputs": [
    {
     "data": {
      "image/png": "[encoded data removed]",
      "text/plain": [
       "<Figure size 360x360 with 1 Axes>"
      ]
     },
     "metadata": {
      "needs_background": "light"
     },
     "output_type": "display_data"
    }
   ],
   "source": [
    "fig, ax = plt.subplots()\n",
    "fig.set_size_inches(5,5)\n",
    "n=30\n",
    "plt.imshow(f(torch.cartesian_prod(torch.arange(0,1,1/n),torch.arange(0,1,1/n))).reshape(n,n).numpy(),interpolation=None,origin=\"lower\")\n",
    "plt.show()"
   ]
  },
  {
   "cell_type": "code",
   "execution_count": 14,
   "metadata": {},
   "outputs": [],
   "source": [
    "del xj,yj"
   ]
  },
  {
   "cell_type": "code",
   "execution_count": 15,
   "metadata": {},
   "outputs": [],
   "source": [
    "xj = torch.arange(0.01,0.99,0.01)\n",
    "xj=torch.stack((torch.ones_like(xj)/2.,xj,torch.zeros_like(xj)),-1).to(device)\n",
    "yj = model(xj).detach().cpu()\n",
    "xj = xj.detach().cpu()"
   ]
  },
  {
   "cell_type": "code",
   "execution_count": 16,
   "metadata": {},
   "outputs": [
    {
     "data": {
      "text/plain": [
       "<matplotlib.collections.PathCollection at 0x7f820c05db70>"
      ]
     },
     "execution_count": 16,
     "metadata": {},
     "output_type": "execute_result"
    },
    {
     "data": {
      "image/png": "[encoded data removed]",
      "text/plain": [
       "<Figure size 432x288 with 1 Axes>"
      ]
     },
     "metadata": {
      "needs_background": "light"
     },
     "output_type": "display_data"
    }
   ],
   "source": [
    "plt.scatter(xj[:,1],yj[:,0])"
   ]
  },
  {
   "cell_type": "code",
   "execution_count": 17,
   "metadata": {},
   "outputs": [],
   "source": [
    "t1=model.flows[0].T"
   ]
  },
  {
   "cell_type": "code",
   "execution_count": 18,
   "metadata": {},
   "outputs": [],
   "source": [
    "qt=(t1(torch.zeros(1000,1).uniform_().to(device))).detach().to(\"cpu\")\n",
    "qs = torch.nn.Softmax(dim=2)(qt).numpy()"
   ]
  },
  {
   "cell_type": "code",
   "execution_count": 19,
   "metadata": {},
   "outputs": [
    {
     "data": {
      "text/plain": [
       "torch.Size([1000, 1, 20])"
      ]
     },
     "execution_count": 19,
     "metadata": {},
     "output_type": "execute_result"
    }
   ],
   "source": [
    "qt.shape"
   ]
  },
  {
   "cell_type": "code",
   "execution_count": 20,
   "metadata": {},
   "outputs": [
    {
     "data": {
      "image/png": "[encoded data removed]",
      "text/plain": [
       "<Figure size 432x288 with 1 Axes>"
      ]
     },
     "metadata": {
      "needs_background": "light"
     },
     "output_type": "display_data"
    },
    {
     "data": {
      "image/png": "[encoded data removed]",
      "text/plain": [
       "<Figure size 432x288 with 1 Axes>"
      ]
     },
     "metadata": {
      "needs_background": "light"
     },
     "output_type": "display_data"
    }
   ],
   "source": [
    "plt.hist(qs[:,:,1])\n",
    "plt.show()\n",
    "plt.hist(qs[:,:,0])\n",
    "plt.show()"
   ]
  },
  {
   "cell_type": "code",
   "execution_count": 21,
   "metadata": {},
   "outputs": [
    {
     "data": {
      "text/plain": [
       "(array([427.,  34.,  16.,  11.,  12., 160.,  79.,  68.,  68., 125.]),\n",
       " array([0.00377762, 0.01326036, 0.02274311, 0.03222585, 0.04170859,\n",
       "        0.05119133, 0.06067408, 0.07015682, 0.07963956, 0.0891223 ,\n",
       "        0.09860504], dtype=float32),\n",
       " <a list of 10 Patch objects>)"
      ]
     },
     "execution_count": 21,
     "metadata": {},
     "output_type": "execute_result"
    },
    {
     "data": {
      "image/png": "[encoded data removed]",
      "text/plain": [
       "<Figure size 432x288 with 1 Axes>"
      ]
     },
     "metadata": {
      "needs_background": "light"
     },
     "output_type": "display_data"
    }
   ],
   "source": [
    "plt.hist(qs[:,:,1])"
   ]
  },
  {
   "cell_type": "code",
   "execution_count": 22,
   "metadata": {},
   "outputs": [
    {
     "data": {
      "text/plain": [
       "tensor([[ 0.1716,  0.0112, -1.5281],\n",
       "        [ 0.1719,  0.0223, -1.5896],\n",
       "        [ 0.1722,  0.0335, -1.6468],\n",
       "        [ 0.1724,  0.0447, -1.6995],\n",
       "        [ 0.1726,  0.0535, -2.1808],\n",
       "        [ 0.1728,  0.0607, -2.2141],\n",
       "        [ 0.1729,  0.0678, -2.2446],\n",
       "        [ 0.1730,  0.0750, -2.2724],\n",
       "        [ 0.1731,  0.0822, -2.2461],\n",
       "        [ 0.1732,  0.0898, -2.2696],\n",
       "        [ 0.1732,  0.0973, -2.2900],\n",
       "        [ 0.1732,  0.1037, -2.5690],\n",
       "        [ 0.1732,  0.1096, -2.5808],\n",
       "        [ 0.1732,  0.1147, -2.8005],\n",
       "        [ 0.1732,  0.1194, -2.8063],\n",
       "        [ 0.1731,  0.1242, -2.8106],\n",
       "        [ 0.1731,  0.1289, -2.8133],\n",
       "        [ 0.1730,  0.1336, -2.8143],\n",
       "        [ 0.1729,  0.1383, -2.9127],\n",
       "        [ 0.1729,  0.1426, -2.9109],\n",
       "        [ 0.1728,  0.1470, -2.9079],\n",
       "        [ 0.1727,  0.1510, -3.1523],\n",
       "        [ 0.1726,  0.1544, -3.1473],\n",
       "        [ 0.1726,  0.1577, -3.1413],\n",
       "        [ 0.1725,  0.1611, -3.1343],\n",
       "        [ 0.1724,  0.1652, -2.9180],\n",
       "        [ 0.1723,  0.1693, -2.9063],\n",
       "        [ 0.1722,  0.1735, -2.8931],\n",
       "        [ 0.1721,  0.1776, -2.8783],\n",
       "        [ 0.1721,  0.1817, -2.8619],\n",
       "        [ 0.1721,  0.1859, -2.8254],\n",
       "        [ 0.1721,  0.1900, -2.8052],\n",
       "        [ 0.1723,  0.1942, -2.7832],\n",
       "        [ 0.1725,  0.1983, -2.7589],\n",
       "        [ 0.1729,  0.2020, -2.8780],\n",
       "        [ 0.1734,  0.2055, -2.8493],\n",
       "        [ 0.1742,  0.2090, -2.8176],\n",
       "        [ 0.1754,  0.2124, -2.7822],\n",
       "        [ 0.1769,  0.2157, -2.7421],\n",
       "        [ 0.1790,  0.2189, -2.8377],\n",
       "        [ 0.1815,  0.2217, -2.7917],\n",
       "        [ 0.1848,  0.2244, -2.7382],\n",
       "        [ 0.1889,  0.2272, -2.8844],\n",
       "        [ 0.1934,  0.2301, -2.8109],\n",
       "        [ 0.1993,  0.2331, -2.7226],\n",
       "        [ 0.2068,  0.2370, -2.6022],\n",
       "        [ 0.2221,  0.2438, -2.0643],\n",
       "        [ 0.2399,  0.2714, -1.6357],\n",
       "        [ 0.5603,  0.5061,  0.7773],\n",
       "        [ 0.7767,  0.7127, -2.4150],\n",
       "        [ 0.7890,  0.7296, -2.7090],\n",
       "        [ 0.7982,  0.7395, -2.6409],\n",
       "        [ 0.8076,  0.7475, -2.4497],\n",
       "        [ 0.8152,  0.7540, -2.5542],\n",
       "        [ 0.8201,  0.7590, -2.8230],\n",
       "        [ 0.8241,  0.7639, -2.7445],\n",
       "        [ 0.8275,  0.7686, -2.7723],\n",
       "        [ 0.8301,  0.7732, -2.7933],\n",
       "        [ 0.8322,  0.7775, -2.8090],\n",
       "        [ 0.8339,  0.7818, -2.8208],\n",
       "        [ 0.8352,  0.7855, -3.0205],\n",
       "        [ 0.8363,  0.7889, -3.0262],\n",
       "        [ 0.8371,  0.7923, -3.1719],\n",
       "        [ 0.8379,  0.7956, -3.1833],\n",
       "        [ 0.8385,  0.7988, -3.1935],\n",
       "        [ 0.8391,  0.8021, -3.1930],\n",
       "        [ 0.8397,  0.8056, -3.1049],\n",
       "        [ 0.8403,  0.8092, -3.1150],\n",
       "        [ 0.8408,  0.8128, -3.1241],\n",
       "        [ 0.8413,  0.8163, -3.1323],\n",
       "        [ 0.8418,  0.8199, -3.1398],\n",
       "        [ 0.8422,  0.8233, -3.1694],\n",
       "        [ 0.8426,  0.8268, -3.1754],\n",
       "        [ 0.8430,  0.8302, -3.1810],\n",
       "        [ 0.8434,  0.8336, -3.1860],\n",
       "        [ 0.8437,  0.8370, -3.1905],\n",
       "        [ 0.8440,  0.8403, -3.1945],\n",
       "        [ 0.8444,  0.8442, -3.0563],\n",
       "        [ 0.8447,  0.8481, -3.0594],\n",
       "        [ 0.8451,  0.8525, -2.8128],\n",
       "        [ 0.8455,  0.8575, -2.8130],\n",
       "        [ 0.8458,  0.8623, -2.9577],\n",
       "        [ 0.8461,  0.8666, -2.9563],\n",
       "        [ 0.8464,  0.8709, -2.9541],\n",
       "        [ 0.8466,  0.8751, -2.9512],\n",
       "        [ 0.8468,  0.8794, -2.9476],\n",
       "        [ 0.8470,  0.8837, -2.9433],\n",
       "        [ 0.8472,  0.8889, -2.6642],\n",
       "        [ 0.8473,  0.8945, -2.6567],\n",
       "        [ 0.8474,  0.9002, -2.2535],\n",
       "        [ 0.8478,  0.9086, -2.2422],\n",
       "        [ 0.8481,  0.9174, -2.1072],\n",
       "        [ 0.8483,  0.9266, -2.1008],\n",
       "        [ 0.8485,  0.9357, -2.0893],\n",
       "        [ 0.8486,  0.9449, -2.0721],\n",
       "        [ 0.8487,  0.9544, -1.8501],\n",
       "        [ 0.8490,  0.9657, -1.8167],\n",
       "        [ 0.8492,  0.9771, -1.7779]])"
      ]
     },
     "execution_count": 22,
     "metadata": {},
     "output_type": "execute_result"
    }
   ],
   "source": [
    "yj"
   ]
  },
  {
   "cell_type": "code",
   "execution_count": null,
   "metadata": {},
   "outputs": [],
   "source": []
  }
 ],
 "metadata": {
  "kernelspec": {
   "display_name": "Python 3",
   "language": "python",
   "name": "python3"
  },
  "language_info": {
   "codemirror_mode": {
    "name": "ipython",
    "version": 3
   },
   "file_extension": ".py",
   "mimetype": "text/x-python",
   "name": "python",
   "nbconvert_exporter": "python",
   "pygments_lexer": "ipython3",
   "version": "3.6.9"
  }
 },
 "nbformat": 4,
 "nbformat_minor": 4
}
