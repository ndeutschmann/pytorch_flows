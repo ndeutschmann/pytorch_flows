{
 "cells": [
  {
   "cell_type": "code",
   "execution_count": 40,
   "metadata": {},
   "outputs": [],
   "source": [
    "import torch\n",
    "from math import sqrt\n",
    "from src import setup_std_stream_logger\n",
    "from src.models.flows.coupling_cells.piecewise_coupling import piecewise_linear as pwl"
   ]
  },
  {
   "cell_type": "code",
   "execution_count": 2,
   "metadata": {},
   "outputs": [
    {
     "data": {
      "text/plain": [
       "<function src.models.flows.coupling_cells.piecewise_coupling.piecewise_linear.piecewise_linear_transform(x, q_tilde, compute_jacobian=True)>"
      ]
     },
     "execution_count": 2,
     "metadata": {},
     "output_type": "execute_result"
    }
   ],
   "source": [
    "pwl.piecewise_linear_transform"
   ]
  },
  {
   "cell_type": "code",
   "execution_count": 28,
   "metadata": {},
   "outputs": [],
   "source": [
    "nbatch=100\n",
    "d=3\n",
    "b = 4"
   ]
  },
  {
   "cell_type": "code",
   "execution_count": 29,
   "metadata": {},
   "outputs": [],
   "source": [
    "x = torch.zeros(nbatch,d).uniform_()\n",
    "q_tilde = torch.zeros(nbatch,d,b).normal_()"
   ]
  },
  {
   "cell_type": "code",
   "execution_count": 30,
   "metadata": {},
   "outputs": [],
   "source": [
    "y,jy = pwl.piecewise_linear_transform(x,q_tilde)"
   ]
  },
  {
   "cell_type": "code",
   "execution_count": 31,
   "metadata": {},
   "outputs": [],
   "source": [
    "xx, jx = pwl.piecewise_linear_inverse_transform(y,q_tilde)"
   ]
  },
  {
   "cell_type": "code",
   "execution_count": 32,
   "metadata": {},
   "outputs": [
    {
     "name": "stdout",
     "output_type": "stream",
     "text": [
      "tensor(4.4122e-06)\n",
      "tensor([1.0000, 1.0000, 1.0000,  ..., 1.0000, 1.0000, 1.0000])\n"
     ]
    }
   ],
   "source": [
    "print(torch.max(torch.abs(xx - x)/torch.abs(x)))\n",
    "print(jx*jy)"
   ]
  },
  {
   "cell_type": "code",
   "execution_count": 33,
   "metadata": {},
   "outputs": [
    {
     "name": "stdout",
     "output_type": "stream",
     "text": [
      "tensor(1.3291e-05) tensor(1.0000)\n"
     ]
    }
   ],
   "source": [
    "print(torch.min(y),torch.max(y))"
   ]
  },
  {
   "cell_type": "code",
   "execution_count": 46,
   "metadata": {},
   "outputs": [
    {
     "name": "stdout",
     "output_type": "stream",
     "text": [
      "Result: 1.0002232789993286 +/- 0.0016934267478063703, 0.13185040652751923 sigmas\n"
     ]
    }
   ],
   "source": [
    "nbatch=1000000\n",
    "d=3\n",
    "b = 4\n",
    "\n",
    "x = torch.zeros(nbatch,d).uniform_()\n",
    "q_tilde = torch.zeros(nbatch,d,b).normal_()\n",
    "y,jy = pwl.piecewise_linear_transform(x,q_tilde)\n",
    "\n",
    "res = torch.mean(jy)\n",
    "tgt = 1.\n",
    "unc = torch.std(jy)/sqrt(nbatch)\n",
    "\n",
    "print(f\"Result: {res} +/- {unc}, {torch.abs(res-tgt)/unc} sigmas\")\n"
   ]
  },
  {
   "cell_type": "code",
   "execution_count": null,
   "metadata": {},
   "outputs": [],
   "source": []
  }
 ],
 "metadata": {
  "kernelspec": {
   "display_name": "Python 3",
   "language": "python",
   "name": "python3"
  },
  "language_info": {
   "codemirror_mode": {
    "name": "ipython",
    "version": 3
   },
   "file_extension": ".py",
   "mimetype": "text/x-python",
   "name": "python",
   "nbconvert_exporter": "python",
   "pygments_lexer": "ipython3",
   "version": "3.6.9"
  }
 },
 "nbformat": 4,
 "nbformat_minor": 4
}
