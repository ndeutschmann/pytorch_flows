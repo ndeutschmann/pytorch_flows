{
 "cells": [
  {
   "cell_type": "code",
   "execution_count": 1,
   "metadata": {},
   "outputs": [],
   "source": [
    "import torch\n",
    "from matplotlib import pyplot\n",
    "import numpy as np\n",
    "from matplotlib import pyplot as plt\n",
    "device = torch.device(\"cuda:7\")"
   ]
  },
  {
   "cell_type": "code",
   "execution_count": 2,
   "metadata": {},
   "outputs": [],
   "source": [
    "from src import setup_std_stream_logger\n",
    "setup_std_stream_logger(debug=False)"
   ]
  },
  {
   "cell_type": "code",
   "execution_count": 3,
   "metadata": {},
   "outputs": [],
   "source": [
    "from src.integration import DefaultIntegrator"
   ]
  },
  {
   "cell_type": "code",
   "execution_count": 4,
   "metadata": {},
   "outputs": [],
   "source": [
    "# Defining a camel function\n",
    "def f(x):\n",
    "    return torch.exp( - torch.sum(((x-0.25)/0.1)**2,axis=-1)) + torch.exp( - torch.sum(((x-0.75)/0.1)**2,axis=-1))"
   ]
  },
  {
   "cell_type": "code",
   "execution_count": 5,
   "metadata": {},
   "outputs": [],
   "source": [
    "integrator=DefaultIntegrator(f=f, d=2, device=device, n_epochs=20, minibatch_size=10000,lr=1.e-4, model_params={\"repetitions\":3})"
   ]
  },
  {
   "cell_type": "code",
   "execution_count": 6,
   "metadata": {
    "scrolled": true
   },
   "outputs": [
    {
     "name": "stdout",
     "output_type": "stream",
     "text": [
      "Starting integration\n",
      "Initializing the survey phase\n",
      "Starting the survey phase\n",
      "Integral: 6.325e-02 +/- 5.268e-04\n",
      "Integral: 6.393e-02 +/- 5.282e-04\n",
      "Finalizing the survey phase\n",
      "Initializing the refine phase\n",
      "Starting the refine phase\n",
      "Integral: 6.283e-02 +/- 7.005e-05\n",
      "Integral: 6.286e-02 +/- 1.036e-04\n",
      "Integral: 6.271e-02 +/- 6.777e-05\n",
      "Integral: 6.282e-02 +/- 7.319e-05\n",
      "Integral: 6.282e-02 +/- 6.969e-05\n",
      "Integral: 6.290e-02 +/- 1.057e-04\n",
      "Integral: 6.283e-02 +/- 6.904e-05\n",
      "Integral: 6.270e-02 +/- 6.775e-05\n",
      "Integral: 6.266e-02 +/- 6.634e-05\n",
      "Integral: 6.258e-02 +/- 6.571e-05\n",
      "Finalizing the refine phase\n",
      "Final result: 6.27713e-02 +/- 2.44299e-05\n"
     ]
    }
   ],
   "source": [
    "result=integrator.integrate(2,10)"
   ]
  },
  {
   "cell_type": "code",
   "execution_count": 8,
   "metadata": {
    "scrolled": false
   },
   "outputs": [
    {
     "data": {
      "image/png": "[encoded data removed]",
      "text/plain": [
       "<Figure size 360x360 with 1 Axes>"
      ]
     },
     "metadata": {
      "needs_background": "light"
     },
     "output_type": "display_data"
    }
   ],
   "source": [
    "x=integrator.model_trainer.sample_forward(100000).cpu().numpy()\n",
    "plt.figure(figsize=(5,5))\n",
    "plt.hist2d(x[:,0],x[:,1],bins=30)\n",
    "plt.show()"
   ]
  }
 ],
 "metadata": {
  "kernelspec": {
   "display_name": "Python 3",
   "language": "python",
   "name": "python3"
  },
  "language_info": {
   "codemirror_mode": {
    "name": "ipython",
    "version": 3
   },
   "file_extension": ".py",
   "mimetype": "text/x-python",
   "name": "python",
   "nbconvert_exporter": "python",
   "pygments_lexer": "ipython3",
   "version": "3.6.9"
  }
 },
 "nbformat": 4,
 "nbformat_minor": 4
}
