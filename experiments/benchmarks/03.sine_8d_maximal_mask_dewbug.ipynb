{
 "cells": [
  {
   "cell_type": "code",
   "execution_count": 2,
   "metadata": {},
   "outputs": [],
   "source": [
    "from pprint import pprint\n",
    "import seaborn as sns\n",
    "import numpy as np\n",
    "import sqlalchemy as sql\n",
    "from matplotlib import pyplot as plt\n",
    "import pickle\n",
    "import logging\n",
    "\n",
    "from utils.data_storage.dataframe2sql import read_pkl_sql\n",
    "from utils.config.loaders import get_sql_types\n",
    "\n",
    "sns.set_theme()"
   ]
  },
  {
   "cell_type": "code",
   "execution_count": 3,
   "metadata": {},
   "outputs": [
    {
     "name": "stdout",
     "output_type": "stream",
     "text": [
      "['debug-deletable', 'masking_debug']\n"
     ]
    }
   ],
   "source": [
    "print(sql.create_engine(\"sqlite:///sine.db\").table_names())\n",
    "dtypes = get_sql_types()\n",
    "dtypes[\"value_history\"] = sql.PickleType"
   ]
  },
  {
   "cell_type": "code",
   "execution_count": 5,
   "metadata": {},
   "outputs": [],
   "source": [
    "df = read_pkl_sql(\"sine.db\",\"masking_debug\", dtypes=dtypes)"
   ]
  },
  {
   "cell_type": "code",
   "execution_count": 8,
   "metadata": {},
   "outputs": [
    {
     "data": {
      "text/plain": [
       "1.0089510789661138"
      ]
     },
     "execution_count": 8,
     "metadata": {},
     "output_type": "execute_result"
    }
   ],
   "source": [
    "df[\"variance_ratio\"].max()"
   ]
  }
 ],
 "metadata": {
  "kernelspec": {
   "display_name": "Python 3",
   "language": "python",
   "name": "python3"
  },
  "language_info": {
   "codemirror_mode": {
    "name": "ipython",
    "version": 3
   },
   "file_extension": ".py",
   "mimetype": "text/x-python",
   "name": "python",
   "nbconvert_exporter": "python",
   "pygments_lexer": "ipython3",
   "version": "3.6.9"
  }
 },
 "nbformat": 4,
 "nbformat_minor": 4
}
